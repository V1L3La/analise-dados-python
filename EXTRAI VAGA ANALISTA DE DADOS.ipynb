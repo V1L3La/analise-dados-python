{
 "cells": [
  {
   "cell_type": "code",
   "execution_count": 0,
   "metadata": {
    "application/vnd.databricks.v1+cell": {
     "cellMetadata": {
      "byteLimit": 2048000,
      "rowLimit": 10000
     },
     "inputWidgets": {},
     "nuid": "ce2df9fd-d802-4872-8d6e-7b04c120989f",
     "showTitle": false,
     "tableResultSettingsMap": {},
     "title": ""
    }
   },
   "outputs": [],
   "source": [
    "pip install beautifulsoup4"
   ]
  },
  {
   "cell_type": "code",
   "execution_count": 0,
   "metadata": {
    "application/vnd.databricks.v1+cell": {
     "cellMetadata": {
      "byteLimit": 2048000,
      "rowLimit": 10000
     },
     "inputWidgets": {},
     "nuid": "403b7759-2a8a-4075-a677-a3f6814a17f2",
     "showTitle": false,
     "tableResultSettingsMap": {},
     "title": ""
    }
   },
   "outputs": [],
   "source": [
    "import requests\n",
    "from bs4 import BeautifulSoup\n",
    "import re\n",
    "\n",
    "url = \"https://www.linkedin.com/jobs/search/?currentJobId=4253000271&keywords=analista%20de%20dados&origin=BLENDED_SEARCH_RESULT_NAVIGATION_JOB_CARD&originToLandingJobPostings=4253000271%2C4269426730%2C4272758138\"\n",
    "\n",
    "try:\n",
    "    response = requests.get(url)\n",
    "    response.raise_for_status()\n",
    "    \n",
    "    soup = BeautifulSoup(response.text, 'html.parser')\n",
    "    \n",
    "    # Remove scripts e estilos para focar no texto visível\n",
    "    for script in soup([\"script\", \"style\"]):\n",
    "        script.decompose()\n",
    "    \n",
    "    texto = soup.get_text()\n",
    "    \n",
    "    # Busca por \"analista de dados\" (case-insensitive)\n",
    "    padrao = re.compile(r'analista de dados', re.IGNORECASE)\n",
    "    encontrados = padrao.finditer(texto)\n",
    "    \n",
    "    resultados = []\n",
    "    for match in encontrados:\n",
    "        inicio = max(0, match.start() - 100)\n",
    "        fim = min(len(texto), match.end() + 100)\n",
    "        contexto = texto[inicio:fim]\n",
    "        resultados.append({\n",
    "            'palavra': match.group(),\n",
    "            'contexto': contexto,\n",
    "            'posicao': match.start()\n",
    "        })\n",
    "    \n",
    "    if resultados:\n",
    "        print(f\"Encontrado {len(resultados)} vez(es):\")\n",
    "        for r in resultados:\n",
    "            print(f\"- {r['contexto']}\")\n",
    "    else:\n",
    "        print(\"Não foi encontrado 'analista de dados' na página.\")\n",
    "        \n",
    "except Exception as e:\n",
    "    print(f\"Erro ao acessar a página: {e}\")"
   ]
  },
  {
   "cell_type": "code",
   "execution_count": 0,
   "metadata": {
    "application/vnd.databricks.v1+cell": {
     "cellMetadata": {
      "byteLimit": 2048000,
      "rowLimit": 10000
     },
     "inputWidgets": {},
     "nuid": "2ac4aa93-2dad-4f04-8316-aab304b8143a",
     "showTitle": false,
     "tableResultSettingsMap": {},
     "title": ""
    }
   },
   "outputs": [],
   "source": [
    "import requests\n",
    "from bs4 import BeautifulSoup\n",
    "import re\n",
    "\n",
    "# Lista de URLs para verificar (pode ser uma única URL)\n",
    "urls = [\n",
    "    \"https://www.linkedin.com/jobs/search/?currentJobId=4253000271&keywords=analista%20de%20dados&origin=BLENDED_SEARCH_RESULT_NAVIGATION_JOB_CARD&originToLandingJobPostings=4253000271%2C4269426730%2C4272758138\",\n",
    "    # Adicione mais URLs aqui, por exemplo:\n",
    "    # \"https://vagas.empregosbrasil.com/analista-de-dados\",\n",
    "    # \"https://www.linkedin.com/jobs/view/analista-de-dados-vaga/\"\n",
    "]\n",
    "\n",
    "# Palavra-chave exata a buscar (minúsculas para evitar sensibilidade)\n",
    "palavra_chave = \"analista de dados\"\n",
    "\n",
    "# Padrao regex para busca exata (case-insensitive)\n",
    "padrao = re.compile(re.escape(palavra_chave), re.IGNORECASE)\n",
    "\n",
    "# Lista para armazenar resultados\n",
    "resultados = []\n",
    "\n",
    "for url in urls:\n",
    "    try:\n",
    "        print(f\"\\n🔍 Verificando: {url}\")\n",
    "        \n",
    "        # Faz a requisição\n",
    "        response = requests.get(url, timeout=10)\n",
    "        response.raise_for_status()\n",
    "\n",
    "        # Analisa o HTML\n",
    "        soup = BeautifulSoup(response.text, 'html.parser')\n",
    "\n",
    "        # Remove scripts e estilos para focar no texto visível\n",
    "        for script in soup([\"script\", \"style\"]):\n",
    "            script.decompose()\n",
    "\n",
    "        # Extrai apenas o texto visível\n",
    "        texto = soup.get_text(strip=True)\n",
    "\n",
    "        # Remove espaços extras e quebras de linha\n",
    "        texto = re.sub(r'\\s+', ' ', texto)\n",
    "\n",
    "        # Busca a palavra-chave exata\n",
    "        if padrao.search(texto):\n",
    "            resultados.append({\n",
    "                'url': url,\n",
    "                'encontrado': True,\n",
    "                'contexto': None  # Pode adicionar contexto se necessário\n",
    "            })\n",
    "            print(f\"✅ Encontrado em: {url}\")\n",
    "        else:\n",
    "            resultados.append({\n",
    "                'url': url,\n",
    "                'encontrado': False,\n",
    "                'contexto': None\n",
    "            })\n",
    "            print(f\"❌ Não encontrado em: {url}\")\n",
    "\n",
    "    except requests.exceptions.RequestException as e:\n",
    "        print(f\"❌ Erro ao acessar {url}: {e}\")\n",
    "        resultados.append({\n",
    "            'url': url,\n",
    "            'encontrado': False,\n",
    "            'erro': str(e)\n",
    "        })\n",
    "\n",
    "# Resumo final\n",
    "print(\"\\n\" + \"=\"*50)\n",
    "print(\"📊 RESUMO DOS RESULTADOS:\")\n",
    "print(\"=\"*50)\n",
    "\n",
    "total_encontrados = sum(1 for r in resultados if r['encontrado'])\n",
    "print(f\"Total de URLs verificadas: {len(resultados)}\")\n",
    "print(f\"Encontrado em: {total_encontrados} URL(s)\")\n",
    "\n",
    "if total_encontrados > 0:\n",
    "    print(\"\\n📌 URLs onde foi encontrado 'analista de dados':\")\n",
    "    for r in resultados:\n",
    "        if r['encontrado']:\n",
    "            print(f\"  - {r['url']}\")\n",
    "else:\n",
    "    print(\"\\n❌ Nenhuma ocorrência encontrada em nenhuma URL.\")"
   ]
  }
 ],
 "metadata": {
  "application/vnd.databricks.v1+notebook": {
   "computePreferences": null,
   "dashboards": [],
   "environmentMetadata": {
    "base_environment": "",
    "environment_version": "2"
   },
   "inputWidgetPreferences": null,
   "language": "python",
   "notebookMetadata": {
    "pythonIndentUnit": 4
   },
   "notebookName": "EXTRAI VAGA ANALISTA DE DADOS",
   "widgets": {}
  },
  "language_info": {
   "name": "python"
  }
 },
 "nbformat": 4,
 "nbformat_minor": 0
}
